{
 "cells": [
  {
   "cell_type": "code",
   "execution_count": null,
   "metadata": {},
   "outputs": [],
   "source": [
    "# Import necessary libraries\n",
    "import requests\n",
    "import bs4\n",
    "from bs4 import BeautifulSoup\n",
    "import pandas as pd\n",
    "import csv\n",
    "from opencage.geocoder import OpenCageGeocode"
   ]
  },
  {
   "cell_type": "code",
   "execution_count": null,
   "metadata": {},
   "outputs": [],
   "source": [
    "key = '114a46da8f394ca388bb95d41e814ecf'\n",
    "geocoder = OpenCageGeocode(key)"
   ]
  },
  {
   "cell_type": "code",
   "execution_count": null,
   "metadata": {},
   "outputs": [],
   "source": [
    "# Declare input and output CSV files\n",
    "city_file = \"cities.csv\"\n",
    "title_file = \"titles.csv\"\n",
    "output_file = 'output_file.csv'"
   ]
  },
  {
   "cell_type": "code",
   "execution_count": null,
   "metadata": {},
   "outputs": [],
   "source": [
    "# Read titles file and replace spaces with \"-\"\n",
    "title_data = pd.read_csv(title_file, encoding=\"ISO-8859-1\")\n",
    "title_data['NewTitle']=title_data.JobTitle.replace(' ','-',regex=True) \n",
    "NewTitles = title_data['NewTitle'].tolist()\n",
    "NewTitles\n",
    "title_data.tail()"
   ]
  },
  {
   "cell_type": "code",
   "execution_count": null,
   "metadata": {},
   "outputs": [],
   "source": [
    "# Store all cities in a list in City+State format\n",
    "city_data = pd.read_csv(city_file, encoding=\"ISO-8859-1\")\n",
    "city_data['CityState']=city_data.city.replace(' ','-',regex=True)+'--'+city_data.statecode\n",
    "Cities = city_data['CityState'].tolist()\n",
    "Cities"
   ]
  },
  {
   "cell_type": "code",
   "execution_count": null,
   "metadata": {},
   "outputs": [],
   "source": [
    "# Open the output CSV file and Write the header row first\n",
    "with open(output_file, 'w', newline = '') as f:\n",
    "    thewriter = csv.writer(f)\n",
    "    thewriter.writerow(['Job Title', 'City', 'State', 'Latitude', 'Longitude', 'Average Salary', 'Job Openings', \n",
    "                        'Salary URL', 'Job Openings URL'])\n",
    "    \n",
    "    # Webscraping - for each title + city, get the average salary, number of job openings \n",
    "    for CityState in Cities:\n",
    "            \n",
    "        #Get Lat and Long\n",
    "        results = geocoder.geocode(CityState)\n",
    "        lat = results[0]['geometry']['lat']\n",
    "        long = results[0]['geometry']['lng']\n",
    "\n",
    "        for NewTitle in NewTitles:       \n",
    "\n",
    "            try:\n",
    "                URL_salary = \"https://www.indeed.com/career/\" + NewTitle + \"/salaries/\" + CityState\n",
    "                print(URL_salary)\n",
    "                page = requests.get(URL_salary)\n",
    "                soup = BeautifulSoup(page.text, \"html.parser\")\n",
    "                salary = soup.find(name=\"div\", class_=\"sal-agg-nonbase__average-salary-value\" ).text;\n",
    "            except:\n",
    "                salary = '0';\n",
    "\n",
    "            try:\n",
    "                URL_jobs = \"https://www.indeed.com/jobs?q=\" + NewTitle + \"&l=\" + CityState \n",
    "                print(URL_jobs)\n",
    "                page = requests.get(URL_jobs)\n",
    "                soup = BeautifulSoup(page.text, \"html.parser\")\n",
    "                jobs = soup.find(name=\"div\", id=\"searchCountPages\").text;\n",
    "                numjobs = jobs.split()[3]\n",
    "            except:\n",
    "                numjobs = '0';\n",
    "\n",
    "\n",
    "            print(NewTitle)\n",
    "            jobtitle = NewTitle.replace('-',' ')\n",
    "\n",
    "            cityname = CityState.split('--')[0].replace('-',' ')\n",
    "            statecode= CityState.split('--')[1]\n",
    "               \n",
    "            # For each city+state, write a row in the CSV file\n",
    "            thewriter.writerow([jobtitle, cityname, statecode, lat, long, salary, numjobs, URL_salary, URL_jobs])  \n",
    "output_file.close()"
   ]
  }
 ],
 "metadata": {
  "kernelspec": {
   "display_name": "Python 3",
   "language": "python",
   "name": "python3"
  },
  "language_info": {
   "codemirror_mode": {
    "name": "ipython",
    "version": 3
   },
   "file_extension": ".py",
   "mimetype": "text/x-python",
   "name": "python",
   "nbconvert_exporter": "python",
   "pygments_lexer": "ipython3",
   "version": "3.7.4"
  }
 },
 "nbformat": 4,
 "nbformat_minor": 2
}
