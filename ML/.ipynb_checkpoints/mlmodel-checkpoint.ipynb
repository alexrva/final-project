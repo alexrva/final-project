{
 "cells": [
  {
   "cell_type": "code",
   "execution_count": 1,
   "metadata": {},
   "outputs": [],
   "source": [
    "import matplotlib.pyplot as plt\n",
    "import sklearn\n",
    "from sklearn.preprocessing import PolynomialFeatures\n",
    "import pandas as pd"
   ]
  },
  {
   "cell_type": "code",
   "execution_count": 81,
   "metadata": {},
   "outputs": [],
   "source": [
    "albq = pd.read_csv(\"Albuquerque3.csv\")\n"
   ]
  },
  {
   "cell_type": "code",
   "execution_count": 82,
   "metadata": {},
   "outputs": [
    {
     "data": {
      "text/html": [
       "<div>\n",
       "<style scoped>\n",
       "    .dataframe tbody tr th:only-of-type {\n",
       "        vertical-align: middle;\n",
       "    }\n",
       "\n",
       "    .dataframe tbody tr th {\n",
       "        vertical-align: top;\n",
       "    }\n",
       "\n",
       "    .dataframe thead th {\n",
       "        text-align: right;\n",
       "    }\n",
       "</style>\n",
       "<table border=\"1\" class=\"dataframe\">\n",
       "  <thead>\n",
       "    <tr style=\"text-align: right;\">\n",
       "      <th></th>\n",
       "      <th>date</th>\n",
       "      <th>time</th>\n",
       "      <th>region_id</th>\n",
       "      <th>city</th>\n",
       "      <th>statecode</th>\n",
       "      <th>unemployment</th>\n",
       "      <th>dow</th>\n",
       "      <th>nasdaq</th>\n",
       "      <th>sp500</th>\n",
       "      <th>housing</th>\n",
       "      <th>threem</th>\n",
       "      <th>threed</th>\n",
       "      <th>threeh</th>\n",
       "      <th>sixm</th>\n",
       "      <th>sixh</th>\n",
       "      <th>ninem</th>\n",
       "      <th>nineh</th>\n",
       "      <th>twelvem</th>\n",
       "      <th>twelveh</th>\n",
       "      <th>anchordate</th>\n",
       "    </tr>\n",
       "  </thead>\n",
       "  <tbody>\n",
       "    <tr>\n",
       "      <td>0</td>\n",
       "      <td>1/1/2003</td>\n",
       "      <td>0</td>\n",
       "      <td>23429</td>\n",
       "      <td>Albuquerque</td>\n",
       "      <td>NM</td>\n",
       "      <td>5.2</td>\n",
       "      <td>8604.00</td>\n",
       "      <td>1384.849976</td>\n",
       "      <td>907.00</td>\n",
       "      <td>148049</td>\n",
       "      <td>4/1/2003</td>\n",
       "      <td>727</td>\n",
       "      <td>148776</td>\n",
       "      <td>7/1/2003</td>\n",
       "      <td>149781</td>\n",
       "      <td>10/1/2003</td>\n",
       "      <td>150774</td>\n",
       "      <td>1/1/2004</td>\n",
       "      <td>153324</td>\n",
       "      <td>1/1/2003</td>\n",
       "    </tr>\n",
       "    <tr>\n",
       "      <td>1</td>\n",
       "      <td>2/1/2003</td>\n",
       "      <td>1</td>\n",
       "      <td>23429</td>\n",
       "      <td>Albuquerque</td>\n",
       "      <td>NM</td>\n",
       "      <td>5.2</td>\n",
       "      <td>8077.00</td>\n",
       "      <td>1323.790039</td>\n",
       "      <td>859.00</td>\n",
       "      <td>148287</td>\n",
       "      <td>5/1/2003</td>\n",
       "      <td>741</td>\n",
       "      <td>149028</td>\n",
       "      <td>8/1/2003</td>\n",
       "      <td>150115</td>\n",
       "      <td>11/1/2003</td>\n",
       "      <td>151472</td>\n",
       "      <td>2/1/2004</td>\n",
       "      <td>154211</td>\n",
       "      <td>NaN</td>\n",
       "    </tr>\n",
       "    <tr>\n",
       "      <td>2</td>\n",
       "      <td>3/1/2003</td>\n",
       "      <td>2</td>\n",
       "      <td>23429</td>\n",
       "      <td>Albuquerque</td>\n",
       "      <td>NM</td>\n",
       "      <td>5.3</td>\n",
       "      <td>7843.00</td>\n",
       "      <td>1320.290039</td>\n",
       "      <td>835.00</td>\n",
       "      <td>148583</td>\n",
       "      <td>6/1/2003</td>\n",
       "      <td>799</td>\n",
       "      <td>149382</td>\n",
       "      <td>9/1/2003</td>\n",
       "      <td>150350</td>\n",
       "      <td>12/1/2003</td>\n",
       "      <td>152483</td>\n",
       "      <td>3/1/2004</td>\n",
       "      <td>154769</td>\n",
       "      <td>NaN</td>\n",
       "    </tr>\n",
       "    <tr>\n",
       "      <td>3</td>\n",
       "      <td>4/1/2003</td>\n",
       "      <td>3</td>\n",
       "      <td>23429</td>\n",
       "      <td>Albuquerque</td>\n",
       "      <td>NM</td>\n",
       "      <td>5.3</td>\n",
       "      <td>8480.09</td>\n",
       "      <td>1348.300000</td>\n",
       "      <td>916.92</td>\n",
       "      <td>148776</td>\n",
       "      <td>7/1/2003</td>\n",
       "      <td>1005</td>\n",
       "      <td>149781</td>\n",
       "      <td>10/1/2003</td>\n",
       "      <td>150774</td>\n",
       "      <td>1/1/2004</td>\n",
       "      <td>153324</td>\n",
       "      <td>4/1/2004</td>\n",
       "      <td>155385</td>\n",
       "      <td>NaN</td>\n",
       "    </tr>\n",
       "    <tr>\n",
       "      <td>4</td>\n",
       "      <td>5/1/2003</td>\n",
       "      <td>4</td>\n",
       "      <td>23429</td>\n",
       "      <td>Albuquerque</td>\n",
       "      <td>NM</td>\n",
       "      <td>5.4</td>\n",
       "      <td>8850.26</td>\n",
       "      <td>1472.560000</td>\n",
       "      <td>963.59</td>\n",
       "      <td>149028</td>\n",
       "      <td>8/1/2003</td>\n",
       "      <td>1087</td>\n",
       "      <td>150115</td>\n",
       "      <td>11/1/2003</td>\n",
       "      <td>151472</td>\n",
       "      <td>2/1/2004</td>\n",
       "      <td>154211</td>\n",
       "      <td>5/1/2004</td>\n",
       "      <td>155990</td>\n",
       "      <td>NaN</td>\n",
       "    </tr>\n",
       "    <tr>\n",
       "      <td>...</td>\n",
       "      <td>...</td>\n",
       "      <td>...</td>\n",
       "      <td>...</td>\n",
       "      <td>...</td>\n",
       "      <td>...</td>\n",
       "      <td>...</td>\n",
       "      <td>...</td>\n",
       "      <td>...</td>\n",
       "      <td>...</td>\n",
       "      <td>...</td>\n",
       "      <td>...</td>\n",
       "      <td>...</td>\n",
       "      <td>...</td>\n",
       "      <td>...</td>\n",
       "      <td>...</td>\n",
       "      <td>...</td>\n",
       "      <td>...</td>\n",
       "      <td>...</td>\n",
       "      <td>...</td>\n",
       "      <td>...</td>\n",
       "    </tr>\n",
       "    <tr>\n",
       "      <td>194</td>\n",
       "      <td>3/1/2019</td>\n",
       "      <td>194</td>\n",
       "      <td>23429</td>\n",
       "      <td>Albuquerque</td>\n",
       "      <td>NM</td>\n",
       "      <td>4.8</td>\n",
       "      <td>25928.70</td>\n",
       "      <td>7595.350000</td>\n",
       "      <td>2834.40</td>\n",
       "      <td>202851</td>\n",
       "      <td>6/1/2019</td>\n",
       "      <td>2363</td>\n",
       "      <td>205214</td>\n",
       "      <td>9/1/2019</td>\n",
       "      <td>209654</td>\n",
       "      <td>12/1/2019</td>\n",
       "      <td>#REF!</td>\n",
       "      <td>3/1/2020</td>\n",
       "      <td>NaN</td>\n",
       "      <td>NaN</td>\n",
       "    </tr>\n",
       "    <tr>\n",
       "      <td>195</td>\n",
       "      <td>4/1/2019</td>\n",
       "      <td>195</td>\n",
       "      <td>23429</td>\n",
       "      <td>Albuquerque</td>\n",
       "      <td>NM</td>\n",
       "      <td>4.7</td>\n",
       "      <td>26592.90</td>\n",
       "      <td>7828.910000</td>\n",
       "      <td>2945.83</td>\n",
       "      <td>203417</td>\n",
       "      <td>7/1/2019</td>\n",
       "      <td>3399</td>\n",
       "      <td>206816</td>\n",
       "      <td>10/1/2019</td>\n",
       "      <td>210339</td>\n",
       "      <td>1/1/2020</td>\n",
       "      <td>#REF!</td>\n",
       "      <td>4/1/2020</td>\n",
       "      <td>NaN</td>\n",
       "      <td>NaN</td>\n",
       "    </tr>\n",
       "    <tr>\n",
       "      <td>196</td>\n",
       "      <td>5/1/2019</td>\n",
       "      <td>196</td>\n",
       "      <td>23429</td>\n",
       "      <td>Albuquerque</td>\n",
       "      <td>NM</td>\n",
       "      <td>4.7</td>\n",
       "      <td>24815.00</td>\n",
       "      <td>8049.640000</td>\n",
       "      <td>2752.06</td>\n",
       "      <td>204125</td>\n",
       "      <td>8/1/2019</td>\n",
       "      <td>4129</td>\n",
       "      <td>208254</td>\n",
       "      <td>11/1/2019</td>\n",
       "      <td>#REF!</td>\n",
       "      <td>2/1/2020</td>\n",
       "      <td>NaN</td>\n",
       "      <td>5/1/2020</td>\n",
       "      <td>NaN</td>\n",
       "      <td>NaN</td>\n",
       "    </tr>\n",
       "    <tr>\n",
       "      <td>197</td>\n",
       "      <td>6/1/2019</td>\n",
       "      <td>197</td>\n",
       "      <td>23429</td>\n",
       "      <td>Albuquerque</td>\n",
       "      <td>NM</td>\n",
       "      <td>4.7</td>\n",
       "      <td>25839.65</td>\n",
       "      <td>8070.400000</td>\n",
       "      <td>2744.00</td>\n",
       "      <td>205214</td>\n",
       "      <td>9/1/2019</td>\n",
       "      <td>4440</td>\n",
       "      <td>209654</td>\n",
       "      <td>12/1/2019</td>\n",
       "      <td>#REF!</td>\n",
       "      <td>3/1/2020</td>\n",
       "      <td>NaN</td>\n",
       "      <td>6/1/2020</td>\n",
       "      <td>NaN</td>\n",
       "      <td>NaN</td>\n",
       "    </tr>\n",
       "    <tr>\n",
       "      <td>198</td>\n",
       "      <td>7/1/2019</td>\n",
       "      <td>198</td>\n",
       "      <td>23429</td>\n",
       "      <td>Albuquerque</td>\n",
       "      <td>NM</td>\n",
       "      <td>4.7</td>\n",
       "      <td>26864.30</td>\n",
       "      <td>8091.160000</td>\n",
       "      <td>2980.38</td>\n",
       "      <td>206816</td>\n",
       "      <td>10/1/2019</td>\n",
       "      <td>3523</td>\n",
       "      <td>210339</td>\n",
       "      <td>1/1/2020</td>\n",
       "      <td>#REF!</td>\n",
       "      <td>4/1/2020</td>\n",
       "      <td>NaN</td>\n",
       "      <td>7/1/2020</td>\n",
       "      <td>NaN</td>\n",
       "      <td>NaN</td>\n",
       "    </tr>\n",
       "  </tbody>\n",
       "</table>\n",
       "<p>199 rows × 20 columns</p>\n",
       "</div>"
      ],
      "text/plain": [
       "         date  time  region_id         city statecode  unemployment       dow  \\\n",
       "0    1/1/2003     0      23429  Albuquerque        NM           5.2   8604.00   \n",
       "1    2/1/2003     1      23429  Albuquerque        NM           5.2   8077.00   \n",
       "2    3/1/2003     2      23429  Albuquerque        NM           5.3   7843.00   \n",
       "3    4/1/2003     3      23429  Albuquerque        NM           5.3   8480.09   \n",
       "4    5/1/2003     4      23429  Albuquerque        NM           5.4   8850.26   \n",
       "..        ...   ...        ...          ...       ...           ...       ...   \n",
       "194  3/1/2019   194      23429  Albuquerque        NM           4.8  25928.70   \n",
       "195  4/1/2019   195      23429  Albuquerque        NM           4.7  26592.90   \n",
       "196  5/1/2019   196      23429  Albuquerque        NM           4.7  24815.00   \n",
       "197  6/1/2019   197      23429  Albuquerque        NM           4.7  25839.65   \n",
       "198  7/1/2019   198      23429  Albuquerque        NM           4.7  26864.30   \n",
       "\n",
       "          nasdaq    sp500  housing     threem  threed  threeh       sixm  \\\n",
       "0    1384.849976   907.00   148049   4/1/2003     727  148776   7/1/2003   \n",
       "1    1323.790039   859.00   148287   5/1/2003     741  149028   8/1/2003   \n",
       "2    1320.290039   835.00   148583   6/1/2003     799  149382   9/1/2003   \n",
       "3    1348.300000   916.92   148776   7/1/2003    1005  149781  10/1/2003   \n",
       "4    1472.560000   963.59   149028   8/1/2003    1087  150115  11/1/2003   \n",
       "..           ...      ...      ...        ...     ...     ...        ...   \n",
       "194  7595.350000  2834.40   202851   6/1/2019    2363  205214   9/1/2019   \n",
       "195  7828.910000  2945.83   203417   7/1/2019    3399  206816  10/1/2019   \n",
       "196  8049.640000  2752.06   204125   8/1/2019    4129  208254  11/1/2019   \n",
       "197  8070.400000  2744.00   205214   9/1/2019    4440  209654  12/1/2019   \n",
       "198  8091.160000  2980.38   206816  10/1/2019    3523  210339   1/1/2020   \n",
       "\n",
       "       sixh      ninem   nineh   twelvem twelveh anchordate  \n",
       "0    149781  10/1/2003  150774  1/1/2004  153324   1/1/2003  \n",
       "1    150115  11/1/2003  151472  2/1/2004  154211        NaN  \n",
       "2    150350  12/1/2003  152483  3/1/2004  154769        NaN  \n",
       "3    150774   1/1/2004  153324  4/1/2004  155385        NaN  \n",
       "4    151472   2/1/2004  154211  5/1/2004  155990        NaN  \n",
       "..      ...        ...     ...       ...     ...        ...  \n",
       "194  209654  12/1/2019   #REF!  3/1/2020     NaN        NaN  \n",
       "195  210339   1/1/2020   #REF!  4/1/2020     NaN        NaN  \n",
       "196   #REF!   2/1/2020     NaN  5/1/2020     NaN        NaN  \n",
       "197   #REF!   3/1/2020     NaN  6/1/2020     NaN        NaN  \n",
       "198   #REF!   4/1/2020     NaN  7/1/2020     NaN        NaN  \n",
       "\n",
       "[199 rows x 20 columns]"
      ]
     },
     "execution_count": 82,
     "metadata": {},
     "output_type": "execute_result"
    }
   ],
   "source": [
    "albq"
   ]
  },
  {
   "cell_type": "code",
   "execution_count": 92,
   "metadata": {},
   "outputs": [
    {
     "name": "stdout",
     "output_type": "stream",
     "text": [
      "(199, 1) (199, 1)\n"
     ]
    }
   ],
   "source": [
    "X = albq[['time']]\n",
    "y = albq[\"threed\"].values.reshape(-1, 1)\n",
    "print(X.shape, y.shape)"
   ]
  },
  {
   "cell_type": "code",
   "execution_count": 93,
   "metadata": {},
   "outputs": [],
   "source": [
    "from sklearn.model_selection import train_test_split\n",
    "\n",
    "X_train, X_test, y_train, y_test = train_test_split(X, y, random_state=42)"
   ]
  },
  {
   "cell_type": "code",
   "execution_count": 94,
   "metadata": {},
   "outputs": [],
   "source": [
    "poly = PolynomialFeatures(degree=3)\n",
    "X_train3 = poly.fit_transform(X_train)\n",
    "y_test3 = poly.fit_transform(y_test)\n",
    "X_test3 = poly.fit_transform(X_test)\n",
    "y_train3 = poly.fit_transform(y_train)"
   ]
  },
  {
   "cell_type": "code",
   "execution_count": 95,
   "metadata": {},
   "outputs": [
    {
     "data": {
      "text/plain": [
       "LinearRegression(copy_X=True, fit_intercept=True, n_jobs=None, normalize=False)"
      ]
     },
     "execution_count": 95,
     "metadata": {},
     "output_type": "execute_result"
    }
   ],
   "source": [
    "from sklearn.linear_model import LinearRegression\n",
    "model = LinearRegression()\n",
    "model.fit(X_train3, y_train3)"
   ]
  },
  {
   "cell_type": "code",
   "execution_count": 96,
   "metadata": {},
   "outputs": [],
   "source": [
    "# model.predict(predict_)"
   ]
  },
  {
   "cell_type": "code",
   "execution_count": 97,
   "metadata": {},
   "outputs": [
    {
     "name": "stdout",
     "output_type": "stream",
     "text": [
      "Weight coefficients:  [[ 0.00000000e+00  0.00000000e+00  0.00000000e+00  0.00000000e+00]\n",
      " [ 0.00000000e+00 -1.98298414e+01 -4.59337737e-01  2.97717634e-03]\n",
      " [ 0.00000000e+00  7.64220138e+05 -1.08189365e+04  3.69598856e+01]\n",
      " [ 0.00000000e+00  2.35431180e+09 -4.27401197e+07  1.61096721e+05]]\n",
      "y-axis intercept:  [1.00000000e+00 3.15629902e+03 2.60954388e+06 4.02874873e+10]\n"
     ]
    }
   ],
   "source": [
    "print('Weight coefficients: ', model.coef_)\n",
    "print('y-axis intercept: ', model.intercept_) "
   ]
  },
  {
   "cell_type": "code",
   "execution_count": 98,
   "metadata": {},
   "outputs": [
    {
     "name": "stdout",
     "output_type": "stream",
     "text": [
      "True output: [727]\n",
      "Predicted output: [1.00000000e+00 8.31848512e+01 1.29075643e+07 3.47800672e+10]\n",
      "Prediction Error: [-7.26000000e+02 -6.43815149e+02  1.29068373e+07  3.47800665e+10]\n"
     ]
    }
   ],
   "source": [
    "predictions = model.predict(X_test3)\n",
    "print(f\"True output: {y[0]}\")\n",
    "print(f\"Predicted output: {predictions[0]}\")\n",
    "print(f\"Prediction Error: {predictions[0]-y[0]}\")"
   ]
  },
  {
   "cell_type": "code",
   "execution_count": 99,
   "metadata": {},
   "outputs": [
    {
     "name": "stdout",
     "output_type": "stream",
     "text": [
      "R2 Score: 0.162571631533047\n"
     ]
    },
    {
     "name": "stderr",
     "output_type": "stream",
     "text": [
      "C:\\Users\\ryand\\Anaconda3\\lib\\site-packages\\sklearn\\base.py:420: FutureWarning: The default value of multioutput (not exposed in score method) will change from 'variance_weighted' to 'uniform_average' in 0.23 to keep consistent with 'metrics.r2_score'. To specify the default value manually and avoid the warning, please either call 'metrics.r2_score' directly or make a custom scorer with 'metrics.make_scorer' (the built-in scorer 'r2' uses multioutput='uniform_average').\n",
      "  \"multioutput='uniform_average').\", FutureWarning)\n"
     ]
    }
   ],
   "source": [
    "score = model.score(X_train3, y_train3)\n",
    "print(f\"R2 Score: {score}\")"
   ]
  },
  {
   "cell_type": "code",
   "execution_count": null,
   "metadata": {},
   "outputs": [],
   "source": []
  },
  {
   "cell_type": "code",
   "execution_count": 100,
   "metadata": {},
   "outputs": [
    {
     "data": {
      "text/plain": [
       "<matplotlib.collections.PathCollection at 0x228fe1e92c8>"
      ]
     },
     "execution_count": 100,
     "metadata": {},
     "output_type": "execute_result"
    },
    {
     "data": {
      "image/png": "[encoded data removed]",
      "text/plain": [
       "<Figure size 432x288 with 1 Axes>"
      ]
     },
     "metadata": {
      "needs_background": "light"
     },
     "output_type": "display_data"
    }
   ],
   "source": [
    "plt.scatter(X, y)"
   ]
  },
  {
   "cell_type": "code",
   "execution_count": null,
   "metadata": {},
   "outputs": [],
   "source": [
    "from sklearn.preprocessing import StandardScaler\n",
    "\n",
    "# Create a StandardScater model and fit it to the training data\n",
    "X_scaler = StandardScaler().fit(X_train)"
   ]
  },
  {
   "cell_type": "code",
   "execution_count": null,
   "metadata": {},
   "outputs": [],
   "source": [
    "X_train_scaled = X_scaler.transform(X_train)\n",
    "X_test_scaled = X_scaler.transform(X_test)"
   ]
  },
  {
   "cell_type": "code",
   "execution_count": null,
   "metadata": {},
   "outputs": [],
   "source": []
  },
  {
   "cell_type": "code",
   "execution_count": null,
   "metadata": {},
   "outputs": [],
   "source": [
    "from sklearn.datasets import make_regression\n",
    "X, y = make_regression(n_samples=100, n_features=6, noise=0.1)\n"
   ]
  },
  {
   "cell_type": "code",
   "execution_count": null,
   "metadata": {},
   "outputs": [],
   "source": [
    "model = LinearRegression()\n",
    "model.fit(X, y)"
   ]
  },
  {
   "cell_type": "code",
   "execution_count": null,
   "metadata": {},
   "outputs": [],
   "source": [
    "Xnew, _ = make_regression(n_samples=3, n_features=6, noise=0.1, random_state=1)"
   ]
  },
  {
   "cell_type": "code",
   "execution_count": null,
   "metadata": {},
   "outputs": [],
   "source": [
    "ynew = model.predict(Xnew)\n"
   ]
  },
  {
   "cell_type": "code",
   "execution_count": null,
   "metadata": {},
   "outputs": [],
   "source": [
    "print(\"X=%s, Predicted=%s\" % (Xnew[0], ynew[0]))"
   ]
  },
  {
   "cell_type": "code",
   "execution_count": null,
   "metadata": {},
   "outputs": [],
   "source": []
  }
 ],
 "metadata": {
  "kernelspec": {
   "display_name": "Python 3",
   "language": "python",
   "name": "python3"
  },
  "language_info": {
   "codemirror_mode": {
    "name": "ipython",
    "version": 3
   },
   "file_extension": ".py",
   "mimetype": "text/x-python",
   "name": "python",
   "nbconvert_exporter": "python",
   "pygments_lexer": "ipython3",
   "version": "3.7.4"
  }
 },
 "nbformat": 4,
 "nbformat_minor": 2
}
